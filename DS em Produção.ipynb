{
 "cells": [
  {
   "cell_type": "markdown",
   "id": "b5315108",
   "metadata": {},
   "source": [
    "## 0.0 Importando Bibliotecas"
   ]
  },
  {
   "cell_type": "code",
   "execution_count": 89,
   "id": "431e8cc5",
   "metadata": {},
   "outputs": [],
   "source": [
    "import math\n",
    "import numpy as np\n",
    "import pandas as pd\n",
    "import inflection\n",
    "import datetime\n",
    "import seaborn as sns\n",
    "from matplotlib import pyplot as plt\n",
    "from IPython.core.display import HTML"
   ]
  },
  {
   "cell_type": "markdown",
   "id": "9f7cfaf3",
   "metadata": {},
   "source": [
    "## 0.1 Funções de Ajuda"
   ]
  },
  {
   "cell_type": "code",
   "execution_count": null,
   "id": "1b34c246",
   "metadata": {},
   "outputs": [],
   "source": []
  },
  {
   "cell_type": "markdown",
   "id": "d77eb92a",
   "metadata": {},
   "source": [
    "## 0.2 Carregando Dados"
   ]
  },
  {
   "cell_type": "code",
   "execution_count": 26,
   "id": "2218d25e",
   "metadata": {},
   "outputs": [],
   "source": [
    "df_sales_raw = pd.read_csv('Base de Dados\\TRAIN.csv', low_memory=False)\n",
    "df_store_raw = pd.read_csv('Base de Dados\\STORE.csv', low_memory=False)\n",
    "\n",
    "# Realizando a unificação das duas tabelas em uma, usando como referencia a coluna store\n",
    "df_raw = pd.merge(df_sales_raw, df_store_raw, how='left', on='Store')"
   ]
  },
  {
   "cell_type": "markdown",
   "id": "24e00c12",
   "metadata": {},
   "source": [
    "## 1.0 Descrição dos Dados"
   ]
  },
  {
   "cell_type": "code",
   "execution_count": 27,
   "id": "0656d91b",
   "metadata": {},
   "outputs": [],
   "source": [
    "df1 = df_raw.copy()"
   ]
  },
  {
   "cell_type": "markdown",
   "id": "7b68fd84",
   "metadata": {},
   "source": [
    "## 1.1 Renomeando Colunas"
   ]
  },
  {
   "cell_type": "code",
   "execution_count": 28,
   "id": "9112d6e8",
   "metadata": {},
   "outputs": [],
   "source": [
    "cols_old = ['Store', 'DayOfWeek', 'Date', 'Sales', 'Customers', 'Open','Promo', 'StateHoliday', 'SchoolHoliday',\n",
    "'StoreType', 'Assortment', 'CompetitionDistance','CompetitionOpenSinceMonth','CompetitionOpenSinceYear', 'Promo2', 'Promo2SinceWeek','Promo2SinceYear', 'PromoInterval']\n",
    "\n",
    "# A função inflection.underscore() é usada para converter a string de entrada em um formato de \n",
    "# texto conhecido como \"snake_case\". Em \"snake_case\", todas as letras são em minúsculas e as \n",
    "# palavras são separadas por um único caractere de sublinhado (_).\n",
    "snakecase = lambda x: inflection.underscore( x )\n",
    "\n",
    "# Em termos mais simples, a linha de código percorre cada elemento da lista cols_old, aplica a \n",
    "# função snakecase a cada elemento e cria uma nova lista com os resultados dessas transformações. \n",
    "# Essa nova lista é atribuída à variável cols_new.\n",
    "cols_new = list( map( snakecase, cols_old ) )\n",
    "\n",
    "df1.columns = cols_new"
   ]
  },
  {
   "cell_type": "markdown",
   "id": "2fbc2a72",
   "metadata": {},
   "source": [
    "## 1.2 Dimensão dos Dados"
   ]
  },
  {
   "cell_type": "code",
   "execution_count": 29,
   "id": "a9ef0bde",
   "metadata": {},
   "outputs": [
    {
     "name": "stdout",
     "output_type": "stream",
     "text": [
      "Number of Rows: 1017209\n",
      "Number of Cols: 18\n"
     ]
    }
   ],
   "source": [
    "# boa prática sempre analisar quantas colunas e linhas a base tem\n",
    "print( 'Number of Rows: {}'.format( df1.shape[0] ) )\n",
    "print( 'Number of Cols: {}'.format( df1.shape[1] ) )"
   ]
  },
  {
   "cell_type": "markdown",
   "id": "808b8678",
   "metadata": {},
   "source": [
    "## 1.3 Tipos de Dados"
   ]
  },
  {
   "cell_type": "code",
   "execution_count": 30,
   "id": "456e8899",
   "metadata": {},
   "outputs": [
    {
     "data": {
      "text/plain": [
       "store                                    int64\n",
       "day_of_week                              int64\n",
       "date                            datetime64[ns]\n",
       "sales                                    int64\n",
       "customers                                int64\n",
       "open                                     int64\n",
       "promo                                    int64\n",
       "state_holiday                           object\n",
       "school_holiday                           int64\n",
       "store_type                              object\n",
       "assortment                              object\n",
       "competition_distance                   float64\n",
       "competition_open_since_month           float64\n",
       "competition_open_since_year            float64\n",
       "promo2                                   int64\n",
       "promo2_since_week                      float64\n",
       "promo2_since_year                      float64\n",
       "promo_interval                          object\n",
       "dtype: object"
      ]
     },
     "execution_count": 30,
     "metadata": {},
     "output_type": "execute_result"
    }
   ],
   "source": [
    "# boa prática, analisar as colunas e o tipo de dados que ela possui e em caso de datas, já alterar para datetime\n",
    "df1['date'] = pd.to_datetime( df1['date'] )\n",
    "df1.dtypes"
   ]
  },
  {
   "cell_type": "code",
   "execution_count": null,
   "id": "c6a792c3",
   "metadata": {},
   "outputs": [],
   "source": []
  },
  {
   "cell_type": "markdown",
   "id": "a7c96759",
   "metadata": {},
   "source": [
    "## 1.4 Checando N/A"
   ]
  },
  {
   "cell_type": "code",
   "execution_count": 31,
   "id": "1b051b90",
   "metadata": {},
   "outputs": [
    {
     "data": {
      "text/plain": [
       "store                                0\n",
       "day_of_week                          0\n",
       "date                                 0\n",
       "sales                                0\n",
       "customers                            0\n",
       "open                                 0\n",
       "promo                                0\n",
       "state_holiday                        0\n",
       "school_holiday                       0\n",
       "store_type                           0\n",
       "assortment                           0\n",
       "competition_distance              2642\n",
       "competition_open_since_month    323348\n",
       "competition_open_since_year     323348\n",
       "promo2                               0\n",
       "promo2_since_week               508031\n",
       "promo2_since_year               508031\n",
       "promo_interval                  508031\n",
       "dtype: int64"
      ]
     },
     "execution_count": 31,
     "metadata": {},
     "output_type": "execute_result"
    }
   ],
   "source": [
    "# Sempre é necessário verificar se a base de dados possui informações N/A\n",
    "# formas de lidar com N/A's\n",
    "# 1 - excluir as entradas que tem n/a\n",
    "# 2 -  algoritimos de ML que completa os vazios de acordo com os dados da coluna\n",
    "# 3 - Metodo que será aplicado abaixo\n",
    "\n",
    "df1.isna().sum()"
   ]
  },
  {
   "cell_type": "markdown",
   "id": "a10eafaa",
   "metadata": {},
   "source": [
    "## 1.5 Preenchendo N/A"
   ]
  },
  {
   "cell_type": "code",
   "execution_count": 41,
   "id": "377f8bf0",
   "metadata": {},
   "outputs": [],
   "source": [
    "# A DECISÃO DE COMO VAMOS TRATAR OS N/A DEPENDE MUITO DO TIPO DE DADO ANALISADO E QUAL A FUNÇÃO DOS DADOS ALI\n",
    "# APRESENTADOS. CADA CASO É UM CASO\n",
    "\n",
    "# Competition_Distance\n",
    "# Conceito aqui é preencher os campos faltantes com o maior número possível\n",
    "df1['competition_distance'] = df1['competition_distance'].apply(lambda x: 200000.0 if math.isnan(x) else x)\n",
    "\n",
    "# competition_open_since_month\n",
    "# Estamos prezumindo que como existe o dado de distancia do competidor, que não podemos deixar esse dado vazio\n",
    "# então iremos atribuir no N/A a informação ao mês da coluna date\n",
    "# esse conceito pode e deve ser revisado após a primeira iteração de análise dos dados\n",
    "df1['competition_open_since_month'] = df1.apply( lambda x: x['date'].month \n",
    "                                                if math.isnan( x['competition_open_since_month'] ) \n",
    "                                                else x['competition_open_since_month'], axis=1 )\n",
    "\n",
    "# competition_open_since_year \n",
    "# Estamos prezumindo que como existe o dado de distancia do competidor, que não podemos deixar esse dado vazio\n",
    "# então iremos atribuir no N/A a informação ao ano da coluna date\n",
    "# esse conceito pode e deve ser revisado após a primeira iteração de análise dos dados\n",
    "df1['competition_open_since_year'] = df1.apply( lambda x: x['date'].year \n",
    "                                               if math.isnan( x['competition_open_since_year'] ) \n",
    "                                               else x['competition_open_since_year'], axis=1 )\n",
    "\n",
    "# promo2_since_week\n",
    "# então iremos atribuir no N/A a informação a semana da coluna date\n",
    "# esse conceito pode e deve ser revisado após a primeira iteração de análise dos dados\n",
    "df1['promo2_since_week'] = df1.apply( lambda x: x['date'].week \n",
    "                                               if math.isnan( x['promo2_since_week'] ) \n",
    "                                               else x['promo2_since_week'], axis=1 )\n",
    "\n",
    "# promo2_since_year\n",
    "# então iremos atribuir no N/A a informação do ano da coluna date\n",
    "# esse conceito pode e deve ser revisado após a primeira iteração de análise dos dados\n",
    "df1['promo2_since_year'] = df1.apply( lambda x: x['date'].year \n",
    "                                               if math.isnan( x['promo2_since_year'] ) \n",
    "                                               else x['promo2_since_year'], axis=1 )\n",
    "\n",
    "# promo_interval \n",
    "# iremos preencher os dados N/A com 0\n",
    "# criaremos um dicionário acessório para ter o nome dos meses em portugues\n",
    "month_map = {1: 'Jan', 2: 'Fev', 3: 'Mar', 4: 'Apr', 5: 'May', 6: 'Jun', 7: 'Jul', 8: 'Aug', 9: 'Sep',\n",
    "            10: 'Oct', 11: 'Nov', 12: 'Dec'}\n",
    "\n",
    "# Preencher promo_interval n/a com 0\n",
    "df1['promo_interval'].fillna(0, inplace=True )\n",
    "\n",
    "#criando uma coluna no df1 pegando os dados da coluna mes e subistituindo pelos dados do month_map\n",
    "df1['month_map'] = df1['date'].dt.month.map( month_map )\n",
    "\n",
    "# A condição verifica se o valor de 'promo_interval' é igual a 0. \n",
    "# Se for igual a 0, a função retorna 0, indicando que não há promoção naquele mês.\n",
    "# Caso contrário, se o valor de 'promo_interval' for diferente de 0, a condição verifica se o valor de \n",
    "# 'month_map' está contido na lista de intervalos de promoção. Para isso, o valor de 'promo_interval' \n",
    "# é dividido em uma lista de intervalos separados por vírgula usando o método split(','). \n",
    "# Se 'month_map' estiver contido nessa lista, a função retorna 1, indicando que há uma promoção naquele mês. \n",
    "# Caso contrário, a função retorna 0.\n",
    "df1['is_promo'] = df1[['promo_interval', 'month_map']].apply( lambda x: 0 if \n",
    "                                                             x['promo_interval'] == 0 else 1 if x['month_map'] \n",
    "                                                             in x['promo_interval'].split( ',' ) else 0, axis=1 )"
   ]
  },
  {
   "cell_type": "markdown",
   "id": "9f30cae9",
   "metadata": {},
   "source": [
    "## 1.6 Mudando Tipos de Dados"
   ]
  },
  {
   "cell_type": "code",
   "execution_count": 46,
   "id": "a70b9938",
   "metadata": {
    "scrolled": true
   },
   "outputs": [],
   "source": [
    "# Boa Prática anaisar os tipos de dados novamente, após o fill N/A\n",
    "\n",
    "# competiton para int\n",
    "df1['competition_open_since_month'] = df1['competition_open_since_month'].astype( np.int64)\n",
    "df1['competition_open_since_year'] = df1['competition_open_since_year'].astype( np.int64 )\n",
    "\n",
    "# promo2 para int\n",
    "df1['promo2_since_week'] = df1['promo2_since_week'].astype( np.int64 )\n",
    "df1['promo2_since_year'] = df1['promo2_since_year'].astype( np.int64 )"
   ]
  },
  {
   "cell_type": "markdown",
   "id": "1037e5ad",
   "metadata": {},
   "source": [
    "## 1.7 Estatistica Descritiva"
   ]
  },
  {
   "cell_type": "code",
   "execution_count": 50,
   "id": "ec0583c8",
   "metadata": {},
   "outputs": [],
   "source": [
    "# Criando os arrays para serem analisados, puxando os dados de int e float em num_attributes e strigs em cat_attributes\n",
    "num_attributes = df1.select_dtypes( include=['int64', 'float64'] )\n",
    "cat_attributes = df1.select_dtypes( exclude=['int64', 'float64','datetime64[ns]'] )"
   ]
  },
  {
   "cell_type": "markdown",
   "id": "1ab71285",
   "metadata": {},
   "source": [
    "## 1.7.1 Atributos Numéricos -  num_attributes"
   ]
  },
  {
   "cell_type": "code",
   "execution_count": 51,
   "id": "da642fc0",
   "metadata": {},
   "outputs": [
    {
     "data": {
      "text/html": [
       "<div>\n",
       "<style scoped>\n",
       "    .dataframe tbody tr th:only-of-type {\n",
       "        vertical-align: middle;\n",
       "    }\n",
       "\n",
       "    .dataframe tbody tr th {\n",
       "        vertical-align: top;\n",
       "    }\n",
       "\n",
       "    .dataframe thead th {\n",
       "        text-align: right;\n",
       "    }\n",
       "</style>\n",
       "<table border=\"1\" class=\"dataframe\">\n",
       "  <thead>\n",
       "    <tr style=\"text-align: right;\">\n",
       "      <th></th>\n",
       "      <th>attributes</th>\n",
       "      <th>min</th>\n",
       "      <th>max</th>\n",
       "      <th>range</th>\n",
       "      <th>mean</th>\n",
       "      <th>median</th>\n",
       "      <th>std</th>\n",
       "      <th>skew</th>\n",
       "      <th>kurtosis</th>\n",
       "    </tr>\n",
       "  </thead>\n",
       "  <tbody>\n",
       "    <tr>\n",
       "      <th>0</th>\n",
       "      <td>store</td>\n",
       "      <td>1.0</td>\n",
       "      <td>1115.0</td>\n",
       "      <td>1114.0</td>\n",
       "      <td>558.429727</td>\n",
       "      <td>558.0</td>\n",
       "      <td>321.908493</td>\n",
       "      <td>-0.000955</td>\n",
       "      <td>-1.200524</td>\n",
       "    </tr>\n",
       "    <tr>\n",
       "      <th>1</th>\n",
       "      <td>day_of_week</td>\n",
       "      <td>1.0</td>\n",
       "      <td>7.0</td>\n",
       "      <td>6.0</td>\n",
       "      <td>3.998341</td>\n",
       "      <td>4.0</td>\n",
       "      <td>1.997390</td>\n",
       "      <td>0.001593</td>\n",
       "      <td>-1.246873</td>\n",
       "    </tr>\n",
       "    <tr>\n",
       "      <th>2</th>\n",
       "      <td>sales</td>\n",
       "      <td>0.0</td>\n",
       "      <td>41551.0</td>\n",
       "      <td>41551.0</td>\n",
       "      <td>5773.818972</td>\n",
       "      <td>5744.0</td>\n",
       "      <td>3849.924283</td>\n",
       "      <td>0.641460</td>\n",
       "      <td>1.778375</td>\n",
       "    </tr>\n",
       "    <tr>\n",
       "      <th>3</th>\n",
       "      <td>customers</td>\n",
       "      <td>0.0</td>\n",
       "      <td>7388.0</td>\n",
       "      <td>7388.0</td>\n",
       "      <td>633.145946</td>\n",
       "      <td>609.0</td>\n",
       "      <td>464.411506</td>\n",
       "      <td>1.598650</td>\n",
       "      <td>7.091773</td>\n",
       "    </tr>\n",
       "    <tr>\n",
       "      <th>4</th>\n",
       "      <td>open</td>\n",
       "      <td>0.0</td>\n",
       "      <td>1.0</td>\n",
       "      <td>1.0</td>\n",
       "      <td>0.830107</td>\n",
       "      <td>1.0</td>\n",
       "      <td>0.375539</td>\n",
       "      <td>-1.758045</td>\n",
       "      <td>1.090723</td>\n",
       "    </tr>\n",
       "    <tr>\n",
       "      <th>5</th>\n",
       "      <td>promo</td>\n",
       "      <td>0.0</td>\n",
       "      <td>1.0</td>\n",
       "      <td>1.0</td>\n",
       "      <td>0.381515</td>\n",
       "      <td>0.0</td>\n",
       "      <td>0.485758</td>\n",
       "      <td>0.487838</td>\n",
       "      <td>-1.762018</td>\n",
       "    </tr>\n",
       "    <tr>\n",
       "      <th>6</th>\n",
       "      <td>school_holiday</td>\n",
       "      <td>0.0</td>\n",
       "      <td>1.0</td>\n",
       "      <td>1.0</td>\n",
       "      <td>0.178647</td>\n",
       "      <td>0.0</td>\n",
       "      <td>0.383056</td>\n",
       "      <td>1.677842</td>\n",
       "      <td>0.815154</td>\n",
       "    </tr>\n",
       "    <tr>\n",
       "      <th>7</th>\n",
       "      <td>competition_distance</td>\n",
       "      <td>20.0</td>\n",
       "      <td>200000.0</td>\n",
       "      <td>199980.0</td>\n",
       "      <td>5935.442677</td>\n",
       "      <td>2330.0</td>\n",
       "      <td>12547.646829</td>\n",
       "      <td>10.242344</td>\n",
       "      <td>147.789712</td>\n",
       "    </tr>\n",
       "    <tr>\n",
       "      <th>8</th>\n",
       "      <td>competition_open_since_month</td>\n",
       "      <td>1.0</td>\n",
       "      <td>12.0</td>\n",
       "      <td>11.0</td>\n",
       "      <td>6.786849</td>\n",
       "      <td>7.0</td>\n",
       "      <td>3.311085</td>\n",
       "      <td>-0.042076</td>\n",
       "      <td>-1.232607</td>\n",
       "    </tr>\n",
       "    <tr>\n",
       "      <th>9</th>\n",
       "      <td>competition_open_since_year</td>\n",
       "      <td>1900.0</td>\n",
       "      <td>2015.0</td>\n",
       "      <td>115.0</td>\n",
       "      <td>2010.324840</td>\n",
       "      <td>2012.0</td>\n",
       "      <td>5.515591</td>\n",
       "      <td>-7.235657</td>\n",
       "      <td>124.071304</td>\n",
       "    </tr>\n",
       "    <tr>\n",
       "      <th>10</th>\n",
       "      <td>promo2</td>\n",
       "      <td>0.0</td>\n",
       "      <td>1.0</td>\n",
       "      <td>1.0</td>\n",
       "      <td>0.500564</td>\n",
       "      <td>1.0</td>\n",
       "      <td>0.500000</td>\n",
       "      <td>-0.002255</td>\n",
       "      <td>-1.999999</td>\n",
       "    </tr>\n",
       "    <tr>\n",
       "      <th>11</th>\n",
       "      <td>promo2_since_week</td>\n",
       "      <td>1.0</td>\n",
       "      <td>52.0</td>\n",
       "      <td>51.0</td>\n",
       "      <td>23.619033</td>\n",
       "      <td>22.0</td>\n",
       "      <td>14.310057</td>\n",
       "      <td>0.178723</td>\n",
       "      <td>-1.184046</td>\n",
       "    </tr>\n",
       "    <tr>\n",
       "      <th>12</th>\n",
       "      <td>promo2_since_year</td>\n",
       "      <td>2009.0</td>\n",
       "      <td>2015.0</td>\n",
       "      <td>6.0</td>\n",
       "      <td>2012.793297</td>\n",
       "      <td>2013.0</td>\n",
       "      <td>1.662657</td>\n",
       "      <td>-0.784436</td>\n",
       "      <td>-0.210075</td>\n",
       "    </tr>\n",
       "    <tr>\n",
       "      <th>13</th>\n",
       "      <td>is_promo</td>\n",
       "      <td>0.0</td>\n",
       "      <td>1.0</td>\n",
       "      <td>1.0</td>\n",
       "      <td>0.155231</td>\n",
       "      <td>0.0</td>\n",
       "      <td>0.362124</td>\n",
       "      <td>1.904152</td>\n",
       "      <td>1.625796</td>\n",
       "    </tr>\n",
       "  </tbody>\n",
       "</table>\n",
       "</div>"
      ],
      "text/plain": [
       "                      attributes     min       max     range         mean  \\\n",
       "0                          store     1.0    1115.0    1114.0   558.429727   \n",
       "1                    day_of_week     1.0       7.0       6.0     3.998341   \n",
       "2                          sales     0.0   41551.0   41551.0  5773.818972   \n",
       "3                      customers     0.0    7388.0    7388.0   633.145946   \n",
       "4                           open     0.0       1.0       1.0     0.830107   \n",
       "5                          promo     0.0       1.0       1.0     0.381515   \n",
       "6                 school_holiday     0.0       1.0       1.0     0.178647   \n",
       "7           competition_distance    20.0  200000.0  199980.0  5935.442677   \n",
       "8   competition_open_since_month     1.0      12.0      11.0     6.786849   \n",
       "9    competition_open_since_year  1900.0    2015.0     115.0  2010.324840   \n",
       "10                        promo2     0.0       1.0       1.0     0.500564   \n",
       "11             promo2_since_week     1.0      52.0      51.0    23.619033   \n",
       "12             promo2_since_year  2009.0    2015.0       6.0  2012.793297   \n",
       "13                      is_promo     0.0       1.0       1.0     0.155231   \n",
       "\n",
       "    median           std       skew    kurtosis  \n",
       "0    558.0    321.908493  -0.000955   -1.200524  \n",
       "1      4.0      1.997390   0.001593   -1.246873  \n",
       "2   5744.0   3849.924283   0.641460    1.778375  \n",
       "3    609.0    464.411506   1.598650    7.091773  \n",
       "4      1.0      0.375539  -1.758045    1.090723  \n",
       "5      0.0      0.485758   0.487838   -1.762018  \n",
       "6      0.0      0.383056   1.677842    0.815154  \n",
       "7   2330.0  12547.646829  10.242344  147.789712  \n",
       "8      7.0      3.311085  -0.042076   -1.232607  \n",
       "9   2012.0      5.515591  -7.235657  124.071304  \n",
       "10     1.0      0.500000  -0.002255   -1.999999  \n",
       "11    22.0     14.310057   0.178723   -1.184046  \n",
       "12  2013.0      1.662657  -0.784436   -0.210075  \n",
       "13     0.0      0.362124   1.904152    1.625796  "
      ]
     },
     "execution_count": 51,
     "metadata": {},
     "output_type": "execute_result"
    }
   ],
   "source": [
    "# Métricas de Tendência Central - Média, Mediana\n",
    "ct1 = pd.DataFrame( num_attributes.apply( np.mean ) ).T\n",
    "ct2 = pd.DataFrame( num_attributes.apply( np.median ) ).T\n",
    "\n",
    "# Métricas de dispersion - std, min, max, range, skew, kurtosis\n",
    "\n",
    "# skew ou Skewness (assimetria) mede o grau de assimetria ou falta de simetria na distribuição dos dados. \n",
    "# Uma skewness igual a 0 indica uma distribuição perfeitamente simétrica, enquanto valores positivos indicam \n",
    "# uma assimetria à direita (cauda mais longa à direita) e valores negativos indicam uma assimetria à esquerda \n",
    "# (cauda mais longa à esquerda).\n",
    "\n",
    "# Kurtosis (curtose) mede o grau de achatamento ou afilamento das caudas de uma distribuição em relação à \n",
    "# distribuição normal (distribuição de Gauss). Uma distribuição normal tem uma kurtosis igual a 0. \n",
    "# Uma kurtosis maior que 0 indica caudas mais pesadas (distribuição mais concentrada no centro), \n",
    "# enquanto uma kurtosis menor que 0 indica caudas mais leves (distribuição mais dispersa). Uma kurtosis positiva \n",
    "# (maior que 0) é chamada de leptocúrtica e indica uma distribuição com caudas mais pesadas e picos mais altos. \n",
    "# Uma kurtosis negativa (menor que 0) é chamada de platicúrtica e indica uma distribuição com caudas mais leves e \n",
    "# picos mais baixos.\n",
    "d1 = pd.DataFrame( num_attributes.apply( np.std ) ).T\n",
    "d2 = pd.DataFrame( num_attributes.apply( min ) ).T\n",
    "d3 = pd.DataFrame( num_attributes.apply( max ) ).T\n",
    "d4 = pd.DataFrame( num_attributes.apply( lambda x: x.max() - x.min() ) ).T\n",
    "d5 = pd.DataFrame( num_attributes.apply( lambda x: x.skew() ) ).T\n",
    "d6 = pd.DataFrame( num_attributes.apply( lambda x: x.kurtosis() ) ).T\n",
    "\n",
    "# concatenar\n",
    "m = pd.concat( [d2, d3, d4, ct1, ct2, d1, d5, d6] ).T.reset_index()\n",
    "m.columns = ['attributes', 'min', 'max', 'range', 'mean', 'median', 'std','skew', 'kurtosis']\n",
    "m"
   ]
  },
  {
   "cell_type": "markdown",
   "id": "97a22972",
   "metadata": {},
   "source": [
    "## 1.7.2 Atributos Categóricos - cat_attributes\n"
   ]
  },
  {
   "cell_type": "code",
   "execution_count": 75,
   "id": "bd964fe1",
   "metadata": {
    "scrolled": true
   },
   "outputs": [
    {
     "data": {
      "text/plain": [
       "<AxesSubplot:xlabel='assortment', ylabel='sales'>"
      ]
     },
     "execution_count": 75,
     "metadata": {},
     "output_type": "execute_result"
    },
    {
     "data": {
      "image/png": "[encoded data removed]",
      "text/plain": [
       "<Figure size 936x288 with 3 Axes>"
      ]
     },
     "metadata": {
      "needs_background": "light"
     },
     "output_type": "display_data"
    }
   ],
   "source": [
    "# Contando quantos atributos unicos cat_attributes possui\n",
    "cat_attributes.apply( lambda x: x.unique().shape[0] )\n",
    "# state_holiday      4\n",
    "# store_type         4\n",
    "# assortment         3\n",
    "# promo_interval     4\n",
    "# month_map         12\n",
    "\n",
    "# Criando agrupamento aux que tem os states holyday diferente de zero e sales maiores que zero\n",
    "aux = df1[(df1['state_holiday'] != '0') & (df1['sales'] > 0)]\n",
    "\n",
    "# Dimensionamento dos gráficos\n",
    "plt.figure(figsize=(13, 4))\n",
    "\n",
    "#Posicionamento do gráfico acima\n",
    "plt.subplot( 1, 3, 1 )\n",
    "\n",
    "# Gráfico boxplot de vendas por feriado\n",
    "sns.boxplot( x='state_holiday', y='sales', data=aux )\n",
    "#Posicionamento do gráfico acima\n",
    "plt.subplot( 1, 3, 2 )\n",
    "\n",
    "# Gráfico boxplot de vendas por tipo de loja\n",
    "sns.boxplot( x='store_type', y='sales', data=aux )\n",
    "#Posicionamento do gráfico acima\n",
    "plt.subplot( 1, 3, 3 )\n",
    "\n",
    "# Gráfico boxplot de vendas por de sotimento das lojas\n",
    "sns.boxplot( x='assortment', y='sales', data=aux )"
   ]
  },
  {
   "cell_type": "markdown",
   "id": "0ba6dd42",
   "metadata": {},
   "source": [
    "## 2.0.Feature Engeneering"
   ]
  },
  {
   "cell_type": "code",
   "execution_count": 81,
   "id": "79ba00ac",
   "metadata": {},
   "outputs": [],
   "source": [
    "# Copia de Segurança \n",
    "df2 = df1.copy()"
   ]
  },
  {
   "cell_type": "code",
   "execution_count": 97,
   "id": "343eec85",
   "metadata": {},
   "outputs": [],
   "source": [
    "# year\n",
    "df2['year'] = df2['date'].dt.year\n",
    "\n",
    "# month\n",
    "df2['month'] = df2['date'].dt.month\n",
    "\n",
    "# day\n",
    "df2['day'] = df2['date'].dt.day\n",
    "\n",
    "# week of year\n",
    "df2['week_of_year'] = df2['date'].dt.isocalendar().week\n",
    "# df2['week_of_year'] = df2['date'].dt.weekofyear - Descontinuado\n",
    "\n",
    "# year week\n",
    "df2['year_week'] = df2['date'].dt.strftime('%Y-%W')\n",
    "\n",
    "# competition since\n",
    "df2['competition_since'] = df2.apply( lambda x: datetime.datetime (year=x ['competition_open_since_year'],month=x['competition_open_since_month'],day=1 ), axis=1 )\n",
    "df2['competition_time_month'] = ( ( df2['date'] - df2['competition_since'] )/30).apply( lambda x: x.days ).astype( int )\n",
    "\n",
    "# # promo since\n",
    "df2['promo_since'] = df2['promo2_since_year'].astype( str ) + '-' + df2['promo2_since_week'].astype( str )\n",
    "df2['promo_since'] = df2['promo_since'].apply( lambda x: datetime.datetime.strptime( x + '-1', '%Y-%W-%w' ) - datetime.timedelta( days=7 ) )\n",
    "df2['promo_time_week'] = ( ( df2['date'] - df2['promo_since'] )/7 ).apply(lambda x: x.days ).astype( int )\n",
    "df2['assortment'] = df2['assortment'].apply( lambda x: 'basic' if x == 'a' else'extra' if x == 'b' else 'extended' )\n",
    "\n",
    "# assortment\n",
    "df2['assortment'] = df2['assortment'].apply( lambda x: 'basic' if x == 'a' else 'extra' if x == 'b' else 'extended' )\n",
    "\n",
    "# state holiday\n",
    "df2['state_holiday'] = df2['state_holiday'].apply( lambda x: 'public_holiday' if x == 'a' else 'easter_holiday' if x == 'b' else 'christmas' if x == 'c' else 'regular_day' )\n"
   ]
  },
  {
   "cell_type": "markdown",
   "id": "5558d2a6",
   "metadata": {},
   "source": [
    "## 2.2. Criacao das Hipoteses\n",
    "\n"
   ]
  },
  {
   "cell_type": "markdown",
   "id": "bb058bb2",
   "metadata": {},
   "source": [
    "### 2.2.1. Hipoteses Loja"
   ]
  },
  {
   "cell_type": "code",
   "execution_count": null,
   "id": "ffcb9ca4",
   "metadata": {},
   "outputs": [],
   "source": [
    "# 1. Lojas com número maior de funcionários deveriam vender mais.\n",
    "# 2. Lojas com maior capacidade de estoque deveriam vender mais.\n",
    "# 3. Lojas com maior porte deveriam vender mais.\n",
    "# 4. Lojas com maior sortimentos deveriam vender mais.\n",
    "# 5. Lojas com competidores mais próximos deveriam vender menos.\n",
    "# 6. Lojas com competidores à mais tempo deveriam vendem mais."
   ]
  },
  {
   "cell_type": "markdown",
   "id": "e27a3f89",
   "metadata": {},
   "source": [
    "### 2.2.2. Hipoteses Produto\n"
   ]
  },
  {
   "cell_type": "code",
   "execution_count": null,
   "id": "3ad1c582",
   "metadata": {},
   "outputs": [],
   "source": [
    "# 1. Lojas que investem mais em Marketing deveriam vender mais.\n",
    "# 2. Lojas com maior exposição de produto deveriam vender mais.\n",
    "# 3. Lojas com produtos com preço menor deveriam vender mais.\n",
    "# 5. Lojas com promoções mais agressivas ( descontos maiores ), deveriam vender mais.\n",
    "# 6. Lojas com promoções ativas por mais tempo deveriam vender mais.\n",
    "# 7. Lojas com mais dias de promoção deveriam vender mais.\n",
    "# 8. Lojas com mais promoções consecutivas deveriam vender mais."
   ]
  },
  {
   "cell_type": "markdown",
   "id": "9f590a20",
   "metadata": {},
   "source": [
    "### 2.2.3. Hipoteses Tempo"
   ]
  },
  {
   "cell_type": "code",
   "execution_count": null,
   "id": "c65afb1c",
   "metadata": {},
   "outputs": [],
   "source": [
    "# 1. Lojas abertas durante o feriado de Natal deveriam vender mais.\n",
    "# 2. Lojas deveriam vender mais ao longo dos anos.\n",
    "# 3. Lojas deveriam vender mais no segundo semestre do ano.\n",
    "# 4. Lojas deveriam vender mais depois do dia 10 de cada mês.\n",
    "# 5. Lojas deveriam vender menos aos finais de semana.\n",
    "# 6. Lojas deveriam vender menos durante os feriados escolares."
   ]
  },
  {
   "cell_type": "markdown",
   "id": "9ddd50c2",
   "metadata": {},
   "source": [
    "### 2.3. Lista Final de Hipóteses"
   ]
  },
  {
   "cell_type": "code",
   "execution_count": null,
   "id": "b6045817",
   "metadata": {},
   "outputs": [],
   "source": [
    "# 1. Lojas com maior sortimentos deveriam vender mais.\n",
    "# 2. Lojas com competidores mais próximos deveriam vender menos.\n",
    "# 3. Lojas com competidores à mais tempo deveriam vendem mais.\n",
    "# 4. Lojas com promoções ativas por mais tempo deveriam vender mais\n",
    "# 5. Lojas com mais dias de promoção deveriam vender mais.\n",
    "# 7. Lojas com mais promoções consecutivas deveriam vender mais.\n",
    "# 8. Lojas abertas durante o feriado de Natal deveriam vender mais.\n",
    "# 9. Lojas deveriam vender mais ao longo dos anos.\n",
    "# 10. Lojas deveriam vender mais no segundo semestre do ano.\n",
    "# 11. Lojas deveriam vender mais depois do dia 10 de cada mês.\n",
    "# 12. Lojas deveriam vender menos aos finais de semana.\n",
    "# 13. Lojas deveriam vender menos durante os feriados escolares."
   ]
  },
  {
   "cell_type": "markdown",
   "id": "01c4d0ab",
   "metadata": {},
   "source": [
    "## 3.0 Filtragem de Variáveis"
   ]
  },
  {
   "cell_type": "code",
   "execution_count": null,
   "id": "0a8a75c7",
   "metadata": {},
   "outputs": [],
   "source": [
    "# Copia de Segurança \n",
    "df3 = df2.copy()"
   ]
  },
  {
   "cell_type": "markdown",
   "id": "ae3b5f87",
   "metadata": {},
   "source": [
    "### 3.1 Filtragem das Linhas"
   ]
  },
  {
   "cell_type": "code",
   "execution_count": 102,
   "id": "bb907b22",
   "metadata": {},
   "outputs": [],
   "source": [
    "# Serve para reduzirmos quais colunas iremos usar e como iremos usar na análise solicitada\n",
    "# A filtragem depende do que está se procurando na base de dados \n",
    "# aqui filtrando somente o que é open diferente de zero e sales maior que zero\n",
    "df3 = df3[(df3['open'] != 0) & (df3['sales'] > 0)]"
   ]
  },
  {
   "cell_type": "markdown",
   "id": "e0f4f62f",
   "metadata": {},
   "source": [
    "### 3.2 Seleção das Colunas"
   ]
  },
  {
   "cell_type": "code",
   "execution_count": 104,
   "id": "f3ebf33b",
   "metadata": {},
   "outputs": [],
   "source": [
    "# Estraíndo colunas que não são úteis para essa análise\n",
    "cols_drop = ['customers', 'open', 'promo_interval', 'month_map']\n",
    "df3 = df3.drop( cols_drop, axis=1 )"
   ]
  }
 ],
 "metadata": {
  "kernelspec": {
   "display_name": "Python 3 (ipykernel)",
   "language": "python",
   "name": "python3"
  },
  "language_info": {
   "codemirror_mode": {
    "name": "ipython",
    "version": 3
   },
   "file_extension": ".py",
   "mimetype": "text/x-python",
   "name": "python",
   "nbconvert_exporter": "python",
   "pygments_lexer": "ipython3",
   "version": "3.9.12"
  }
 },
 "nbformat": 4,
 "nbformat_minor": 5
}
